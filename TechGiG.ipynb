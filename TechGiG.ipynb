{
 "cells": [
  {
   "cell_type": "code",
   "execution_count": 1,
   "metadata": {
    "id": "OYHGsEA7rWGB"
   },
   "outputs": [],
   "source": [
    "import pandas as pd\n",
    "import numpy as np\n",
    "import matplotlib.pyplot as plt\n",
    "#import seaborn as sns\n",
    "import random\n",
    "#from torch_geometric.utils import to_networkx\n",
    "import networkx as nx"
   ]
  },
  {
   "cell_type": "code",
   "execution_count": 3,
   "metadata": {
    "id": "9DpwDbNGs2J2"
   },
   "outputs": [],
   "source": [
    "df = pd.read_csv('/home/sknt/Desktop/GNN-MILP_1/Aman_test/Doceree_Complete_DataSet-20230627T054239Z-001/Doceree_Complete_DataSet/Doceree-HCP_Train.csv', encoding= 'ISO-8859-1')"
   ]
  },
  {
   "cell_type": "code",
   "execution_count": 4,
   "metadata": {
    "colab": {
     "base_uri": "https://localhost:8080/"
    },
    "id": "7iOUmOS5s7ki",
    "outputId": "dfff3b89-c8d3-417b-9efa-db8983baa23b"
   },
   "outputs": [
    {
     "data": {
      "text/plain": [
       "113937"
      ]
     },
     "execution_count": 4,
     "metadata": {},
     "output_type": "execute_result"
    }
   ],
   "source": [
    "len(df.ID)"
   ]
  },
  {
   "cell_type": "code",
   "execution_count": 5,
   "metadata": {},
   "outputs": [
    {
     "data": {
      "text/plain": [
       "0"
      ]
     },
     "execution_count": 5,
     "metadata": {},
     "output_type": "execute_result"
    }
   ],
   "source": [
    "df['KEYWORDS'].isnull().sum()"
   ]
  },
  {
   "cell_type": "code",
   "execution_count": 6,
   "metadata": {},
   "outputs": [],
   "source": [
    "df = df.dropna(subset=['IS_HCP'])"
   ]
  },
  {
   "cell_type": "code",
   "execution_count": 7,
   "metadata": {
    "id": "OePXBA5i8Otp"
   },
   "outputs": [],
   "source": [
    "test_data = pd.read_csv('/home/sknt/Desktop/GNN-MILP_1/Aman_test/Doceree_Complete_DataSet-20230627T054239Z-001/Doceree_Complete_DataSet/Doceree-HCP_Test.csv')"
   ]
  },
  {
   "cell_type": "code",
   "execution_count": 8,
   "metadata": {
    "id": "LoKonEyI8SPz"
   },
   "outputs": [],
   "source": [
    "test_data = test_data[['KEYWORDS']]"
   ]
  },
  {
   "cell_type": "code",
   "execution_count": 9,
   "metadata": {
    "colab": {
     "base_uri": "https://localhost:8080/",
     "height": 423
    },
    "id": "kzMZny518dZk",
    "outputId": "40285e51-ca6c-4a40-df72-6810d3767922"
   },
   "outputs": [],
   "source": [
    "test_data = test_data.reset_index(drop=True)"
   ]
  },
  {
   "cell_type": "markdown",
   "metadata": {
    "id": "yKXu00FAo7OO"
   },
   "source": [
    "# REMOVING THE UNWANTED COLUMNS: BIDREQUESTIP\tUSERPLATFORMUID USERZIPCODE"
   ]
  },
  {
   "cell_type": "code",
   "execution_count": 10,
   "metadata": {
    "id": "XowGfLY1msqv"
   },
   "outputs": [],
   "source": [
    "def check_for_null_values(df):\n",
    "    for column in df.columns:\n",
    "        print(column,\":\",df[column].isnull().sum())"
   ]
  },
  {
   "cell_type": "code",
   "execution_count": 11,
   "metadata": {
    "id": "QBAWB4uEvJqe"
   },
   "outputs": [],
   "source": [
    "def drop_feature(df,column_name):\n",
    "    if column_name in df.columns:\n",
    "        df.drop(column_name,axis=True,inplace=True)\n",
    "    else:\n",
    "        print(f\"{column_name} is not present\")"
   ]
  },
  {
   "cell_type": "code",
   "execution_count": 12,
   "metadata": {
    "id": "7CtMqAH1izbB"
   },
   "outputs": [],
   "source": [
    "def plot_categoricals(df,column_name):\n",
    "    grouped = df.groupby(str(column_name))['IS_HCP'].value_counts().unstack().fillna(0)\n",
    "    print(grouped)\n",
    "    grouped.plot(kind='bar')\n",
    "    plt.title(f'Distribution of IS_HCP by {column_name}')\n",
    "    plt.xlabel(f'{column_name}')\n",
    "    plt.ylabel('Count')\n",
    "    plt.legend(['0', '1'], title='Label')\n",
    "    plt.show()"
   ]
  },
  {
   "cell_type": "code",
   "execution_count": 13,
   "metadata": {
    "id": "QKSmagfko6Ts"
   },
   "outputs": [],
   "source": [
    "unwanted_columns = [ \"BIDREQUESTIP\", \"USERPLATFORMUID\",\"USERZIPCODE\"]\n",
    "df.drop(unwanted_columns,axis=1,inplace=True)"
   ]
  },
  {
   "cell_type": "code",
   "execution_count": 14,
   "metadata": {
    "colab": {
     "base_uri": "https://localhost:8080/"
    },
    "id": "AR118gp5uwLI",
    "outputId": "0a0e8ff9-2134-45c1-c961-a6e004157d28"
   },
   "outputs": [],
   "source": [
    "# df.columns"
   ]
  },
  {
   "cell_type": "code",
   "execution_count": 15,
   "metadata": {
    "colab": {
     "base_uri": "https://localhost:8080/"
    },
    "id": "_P6eIdbmv7c6",
    "outputId": "23a86fc5-14d6-4ff6-a3c0-3c76b8e690f9"
   },
   "outputs": [],
   "source": [
    "# lt = [\n",
    "#  'DEVICETYPE',\n",
    "#  'PLATFORM_ID',\n",
    "#  'USERCITY',\n",
    "#  'PLATFORMTYPE',\n",
    "#  'CHANNELTYPE',\n",
    "#  'KEYWORDS',\n",
    "#  'TAXONOMY',\n",
    "#  'IS_HCP']\n",
    "# for i in lt:\n",
    "#     print(i, '->', df[i].value_counts())"
   ]
  },
  {
   "cell_type": "code",
   "execution_count": 16,
   "metadata": {
    "colab": {
     "base_uri": "https://localhost:8080/",
     "height": 626
    },
    "id": "kTjkzha_izYr",
    "outputId": "c5ac735a-2d95-4b45-c715-37d4a408aba1"
   },
   "outputs": [
    {
     "name": "stdout",
     "output_type": "stream",
     "text": [
      "IS_HCP          0.0      1.0\n",
      "DEVICETYPE                  \n",
      "Desktop     57161.0  21262.0\n",
      "Mobile      20796.0  11268.0\n",
      "Tablet       1775.0   1650.0\n",
      "Unknown        24.0      0.0\n"
     ]
    },
    {
     "data": {
      "image/png": "[encoded data removed]",
      "text/plain": [
       "<Figure size 640x480 with 1 Axes>"
      ]
     },
     "metadata": {},
     "output_type": "display_data"
    }
   ],
   "source": [
    "plot_categoricals(df,'DEVICETYPE')"
   ]
  },
  {
   "cell_type": "code",
   "execution_count": 17,
   "metadata": {
    "colab": {
     "base_uri": "https://localhost:8080/",
     "height": 770
    },
    "id": "PRMa11cImJN3",
    "outputId": "5477ec9d-6c3b-4005-efd8-b8c84bfe0705"
   },
   "outputs": [
    {
     "name": "stdout",
     "output_type": "stream",
     "text": [
      "IS_HCP           0.0      1.0\n",
      "PLATFORM_ID                  \n",
      "1               31.0      9.0\n",
      "2            54939.0  24212.0\n",
      "3                0.0    479.0\n",
      "4              245.0    500.0\n",
      "5             3014.0    216.0\n",
      "6             2032.0    946.0\n",
      "7            16758.0   4155.0\n",
      "8               71.0     59.0\n",
      "9             2453.0   1437.0\n",
      "10             212.0    825.0\n",
      "12               0.0    544.0\n",
      "13               0.0     31.0\n",
      "14               0.0    725.0\n",
      "15               0.0     42.0\n",
      "16               1.0      0.0\n"
     ]
    },
    {
     "data": {
      "image/png": "[encoded data removed]",
      "text/plain": [
       "<Figure size 640x480 with 1 Axes>"
      ]
     },
     "metadata": {},
     "output_type": "display_data"
    }
   ],
   "source": [
    "plot_categoricals(df,'PLATFORM_ID')"
   ]
  },
  {
   "cell_type": "code",
   "execution_count": 18,
   "metadata": {
    "id": "jnabBhzEp-sf"
   },
   "outputs": [],
   "source": [
    "#plot_categoricals(df,'USERCITY')\n",
    "#LOT OF VARIATIONS\n",
    "#NOT MAKING ANY SENSE.\n",
    "#REMOVE THE FEATURE USERCITY\n",
    "drop_feature(df,'USERCITY')\n",
    "\n",
    "df['CHANNELTYPE'].value_counts()\n",
    "#all the values are \"Website\". It will not affect the model prediction in any way\n",
    "#remove the column \"CHANNELTYPE\"\n",
    "drop_feature(df,'CHANNELTYPE')\n"
   ]
  },
  {
   "cell_type": "code",
   "execution_count": 19,
   "metadata": {
    "colab": {
     "base_uri": "https://localhost:8080/",
     "height": 750
    },
    "id": "-OS3iOLUxejc",
    "outputId": "87f09cc4-d9ee-422b-d756-e3f197da2938"
   },
   "outputs": [
    {
     "name": "stdout",
     "output_type": "stream",
     "text": [
      "IS_HCP                        0.0      1.0\n",
      "PLATFORMTYPE                              \n",
      "Electronic Health Record     31.0      9.0\n",
      "Medical News Platform         0.0    798.0\n",
      "Online Learning Portal     2032.0    946.0\n",
      "Online Medical Journal    77692.0  32427.0\n",
      "Tele-medicine Platform        1.0      0.0\n"
     ]
    },
    {
     "data": {
      "image/png": "[encoded data removed]",
      "text/plain": [
       "<Figure size 640x480 with 1 Axes>"
      ]
     },
     "metadata": {},
     "output_type": "display_data"
    }
   ],
   "source": [
    "plot_categoricals(df,'PLATFORMTYPE')"
   ]
  },
  {
   "cell_type": "markdown",
   "metadata": {
    "id": "4d8ClaZpz5h8"
   },
   "source": [
    "# Graph level prediction"
   ]
  },
  {
   "cell_type": "code",
   "execution_count": 22,
   "metadata": {
    "id": "5nyE2qV2WWbo"
   },
   "outputs": [],
   "source": [
    "dataset = df[['KEYWORDS','IS_HCP']]"
   ]
  },
  {
   "cell_type": "code",
   "execution_count": 23,
   "metadata": {
    "colab": {
     "base_uri": "https://localhost:8080/",
     "height": 206
    },
    "id": "1Xgf5VQHWibY",
    "outputId": "bae632cb-a222-4d5c-fc1d-b0e0f56ee876"
   },
   "outputs": [
    {
     "data": {
      "text/html": [
       "<div>\n",
       "<style scoped>\n",
       "    .dataframe tbody tr th:only-of-type {\n",
       "        vertical-align: middle;\n",
       "    }\n",
       "\n",
       "    .dataframe tbody tr th {\n",
       "        vertical-align: top;\n",
       "    }\n",
       "\n",
       "    .dataframe thead th {\n",
       "        text-align: right;\n",
       "    }\n",
       "</style>\n",
       "<table border=\"1\" class=\"dataframe\">\n",
       "  <thead>\n",
       "    <tr style=\"text-align: right;\">\n",
       "      <th></th>\n",
       "      <th>KEYWORDS</th>\n",
       "      <th>IS_HCP</th>\n",
       "    </tr>\n",
       "  </thead>\n",
       "  <tbody>\n",
       "    <tr>\n",
       "      <th>0</th>\n",
       "      <td>General|Endocrine|False|Medicine|Surgery|Urolo...</td>\n",
       "      <td>0.0</td>\n",
       "    </tr>\n",
       "    <tr>\n",
       "      <th>1</th>\n",
       "      <td>Bone Marrow|Radiography|Chronic|Oncology|Psych...</td>\n",
       "      <td>0.0</td>\n",
       "    </tr>\n",
       "    <tr>\n",
       "      <th>2</th>\n",
       "      <td>General|Endocrine|False|Medicine|Surgery|Urolo...</td>\n",
       "      <td>0.0</td>\n",
       "    </tr>\n",
       "    <tr>\n",
       "      <th>3</th>\n",
       "      <td>Dental|Total|Clinical|Pharmacology|Physicians|...</td>\n",
       "      <td>1.0</td>\n",
       "    </tr>\n",
       "    <tr>\n",
       "      <th>4</th>\n",
       "      <td>Critical Care|Emergency Medicine|General Pract...</td>\n",
       "      <td>0.0</td>\n",
       "    </tr>\n",
       "  </tbody>\n",
       "</table>\n",
       "</div>"
      ],
      "text/plain": [
       "                                            KEYWORDS  IS_HCP\n",
       "0  General|Endocrine|False|Medicine|Surgery|Urolo...     0.0\n",
       "1  Bone Marrow|Radiography|Chronic|Oncology|Psych...     0.0\n",
       "2  General|Endocrine|False|Medicine|Surgery|Urolo...     0.0\n",
       "3  Dental|Total|Clinical|Pharmacology|Physicians|...     1.0\n",
       "4  Critical Care|Emergency Medicine|General Pract...     0.0"
      ]
     },
     "execution_count": 23,
     "metadata": {},
     "output_type": "execute_result"
    }
   ],
   "source": [
    "dataset.head()"
   ]
  },
  {
   "cell_type": "code",
   "execution_count": 24,
   "metadata": {},
   "outputs": [],
   "source": [
    "dataset = dataset.reset_index(drop=True)"
   ]
  },
  {
   "cell_type": "code",
   "execution_count": 25,
   "metadata": {
    "id": "Nncuy5klX0tt"
   },
   "outputs": [],
   "source": [
    "data = []\n",
    "\n",
    "for i in range(len(dataset)):\n",
    "    keywords = dataset['KEYWORDS'][i].split('|')\n",
    "    label = dataset['IS_HCP'][i]\n",
    "\n",
    "    data.append({\n",
    "        \"keyword\" : keywords,\n",
    "        \"label\" : label\n",
    "    })\n"
   ]
  },
  {
   "cell_type": "code",
   "execution_count": 26,
   "metadata": {},
   "outputs": [],
   "source": [
    "new_data = []\n",
    "\n",
    "for i in range(len(test_data)):\n",
    "    keywords = test_data['KEYWORDS'][i].split('|')\n",
    "    new_data.append({\n",
    "        \"keyword\" : keywords,\n",
    "    })"
   ]
  },
  {
   "cell_type": "code",
   "execution_count": 27,
   "metadata": {},
   "outputs": [
    {
     "data": {
      "text/plain": [
       "(113936, 28493)"
      ]
     },
     "execution_count": 27,
     "metadata": {},
     "output_type": "execute_result"
    }
   ],
   "source": [
    "len(data), len(new_data)"
   ]
  },
  {
   "cell_type": "code",
   "execution_count": 28,
   "metadata": {
    "id": "0F2lX8vivz33"
   },
   "outputs": [],
   "source": [
    "vocab = set()\n",
    "\n",
    "for instance in data:\n",
    "    keyword = instance[\"keyword\"]\n",
    "    vocab.update(keyword)\n",
    "    \n",
    "for instance in new_data:\n",
    "    keyword = instance[\"keyword\"]\n",
    "    vocab.update(keyword)\n",
    "vocab_list = list(vocab)"
   ]
  },
  {
   "cell_type": "code",
   "execution_count": 29,
   "metadata": {},
   "outputs": [
    {
     "data": {
      "text/plain": [
       "1620"
      ]
     },
     "execution_count": 29,
     "metadata": {},
     "output_type": "execute_result"
    }
   ],
   "source": [
    "len(vocab_list)"
   ]
  },
  {
   "cell_type": "code",
   "execution_count": 30,
   "metadata": {
    "id": "x-HYB3qH0Zdn"
   },
   "outputs": [],
   "source": [
    "#dictionary to map keyword to the tensors\n",
    "import torch\n",
    "\n",
    "\n",
    "\n",
    "keyword_to_index = {keyword: index for index, keyword in enumerate(vocab_list)}\n",
    "\n",
    "one_hot_dict = {}\n",
    "\n",
    "for keyword in vocab_list:\n",
    "    one_hot_tensor = torch.zeros(len(vocab_list))\n",
    "    keyword_index = keyword_to_index[keyword]\n",
    "    one_hot_tensor[keyword_index] = 1\n",
    "    one_hot_dict[keyword] = one_hot_tensor\n",
    "\n",
    "# keyword = 'keyword2'\n",
    "# one_hot_encoded = one_hot_dict[keyword]\n",
    "\n",
    "# print(one_hot_encoded)"
   ]
  },
  {
   "cell_type": "code",
   "execution_count": 31,
   "metadata": {
    "colab": {
     "base_uri": "https://localhost:8080/"
    },
    "id": "gThjRM5-eO5j",
    "outputId": "0f4fe06a-de86-4683-92aa-47c305f07f53"
   },
   "outputs": [
    {
     "name": "stdout",
     "output_type": "stream",
     "text": [
      "1620\n"
     ]
    }
   ],
   "source": [
    "print(len(vocab_list))"
   ]
  },
  {
   "cell_type": "code",
   "execution_count": 33,
   "metadata": {
    "id": "Vf9FhlK4dIuD"
   },
   "outputs": [],
   "source": [
    "import itertools\n",
    "import tqdm"
   ]
  },
  {
   "cell_type": "code",
   "execution_count": 34,
   "metadata": {
    "colab": {
     "base_uri": "https://localhost:8080/"
    },
    "id": "FPMuxeu0YtVg",
    "outputId": "383163fc-be01-4ba1-905a-f78a10e0f3f2"
   },
   "outputs": [
    {
     "name": "stderr",
     "output_type": "stream",
     "text": [
      "creating graph: 100%|█████████████████| 113936/113936 [01:21<00:00, 1395.50it/s]\n"
     ]
    }
   ],
   "source": [
    "import itertools\n",
    "\n",
    "graphs = []\n",
    "\n",
    "for instance in tqdm.tqdm(data, desc=\"creating graph\"):\n",
    "    graph = nx.Graph()\n",
    "\n",
    "    keywords = instance['keyword']\n",
    "    label = instance['label']\n",
    "\n",
    "    for i, keyword in enumerate(keywords):\n",
    "        one_hot_tensor = one_hot_dict[keyword]\n",
    "        graph.add_node(i, features=one_hot_tensor)\n",
    "\n",
    "    # Define the edges based on the indices of the keywords in the vocabulary list\n",
    "    edges = list(itertools.combinations(range(len(keywords)), 2))\n",
    "\n",
    "    graph.add_edges_from(edges)\n",
    "\n",
    "    # Store the graph and label in the list\n",
    "    graphs.append((graph, label))\n"
   ]
  },
  {
   "cell_type": "code",
   "execution_count": 35,
   "metadata": {
    "id": "Ba4lTHym4fOO"
   },
   "outputs": [],
   "source": [
    "# for i, (graph, label) in enumerate(new_graphs):\n",
    "#     print(\"Graph\", i+1)\n",
    "#     print(\"Nodes:\", graph.nodes(data=True))\n",
    "#     print(\"Edges:\", graph.edges())\n",
    "#     print(\"Label:\", label)\n",
    "#     print()"
   ]
  },
  {
   "cell_type": "code",
   "execution_count": 36,
   "metadata": {
    "colab": {
     "base_uri": "https://localhost:8080/"
    },
    "id": "Klbp_j7KkRVX",
    "outputId": "a435d6b9-97d8-4116-a500-347d0e8806ca"
   },
   "outputs": [],
   "source": [
    "#!pip install torch-geometric"
   ]
  },
  {
   "cell_type": "code",
   "execution_count": 37,
   "metadata": {
    "colab": {
     "base_uri": "https://localhost:8080/"
    },
    "id": "w9s9-p9skPD0",
    "outputId": "6b6425e0-5142-4d5d-8fee-3357ea31ce0d"
   },
   "outputs": [],
   "source": [
    "import torch\n",
    "import torch.nn as nn\n",
    "import torch.optim as optim\n",
    "from torch_geometric.data import DataLoader\n",
    "from torch_geometric.nn import GCNConv, global_add_pool\n",
    "from torch_geometric.data import Data\n",
    "\n",
    "# Define the GNN model\n",
    "class GNN(nn.Module):\n",
    "    def __init__(self, input_dim, hidden_dim, output_dim):\n",
    "        super(GNN, self).__init__()\n",
    "        self.conv1 = GCNConv(input_dim, hidden_dim)\n",
    "        self.conv2 = GCNConv(hidden_dim, hidden_dim)\n",
    "        self.fc = nn.Linear(hidden_dim, output_dim)\n",
    "\n",
    "    def forward(self, data):\n",
    "        x, edge_index, batch = data.x, data.edge_index, data.batch\n",
    "        x = self.conv1(x, edge_index)\n",
    "        x = torch.relu(x)\n",
    "        x = self.conv2(x, edge_index)\n",
    "        x = torch.relu(x)\n",
    "        x = global_add_pool(x, batch)\n",
    "        x = self.fc(x)\n",
    "        return x\n",
    "\n",
    "# Convert the graph dataset to PyG format\n",
    "pyg_data_list = []\n",
    "for graph, label in graphs:\n",
    "    x = torch.stack([graph.nodes[node]['features'] for node in graph.nodes])\n",
    "    edge_index = torch.tensor([list(edge) for edge in graph.edges]).t().contiguous()\n",
    "    y = torch.tensor([label], dtype=torch.long)\n",
    "    pyg_data_list.append(Data(x=x, edge_index=edge_index, y=y))\n",
    "\n",
    "# Create data loader for batch processing\n",
    "batch_size = 64\n",
    "data_loader = DataLoader(pyg_data_list, batch_size=batch_size, shuffle=True)\n",
    "\n",
    "# Initialize the GNN model\n",
    "input_dim = len(vocab_list)\n",
    "hidden_dim = 64\n",
    "output_dim = 2  # Assuming binary classification (doctor vs. not doctor)\n",
    "model = GNN(input_dim, hidden_dim, output_dim)\n",
    "\n",
    "# Define the loss function and optimizer\n",
    "criterion = nn.CrossEntropyLoss()\n",
    "optimizer = optim.Adam(model.parameters(), lr=0.01)\n",
    "\n",
    "# Training loop\n",
    "num_epochs = 10\n",
    "model.train()\n",
    "for epoch in range(num_epochs):\n",
    "    total_loss = 0\n",
    "    for data in data_loader:\n",
    "        optimizer.zero_grad()\n",
    "        output = model(data)\n",
    "        loss = criterion(output, data.y.squeeze())\n",
    "        loss.backward()\n",
    "        optimizer.step()\n",
    "        total_loss += loss.item()\n",
    "    avg_loss = total_loss / len(data_loader)\n",
    "    print(f\"Epoch {epoch+1}/{num_epochs}, Average Loss: {avg_loss:.4f}\")\n"
   ]
  },
  {
   "cell_type": "code",
   "execution_count": 40,
   "metadata": {
    "scrolled": true
   },
   "outputs": [
    {
     "name": "stderr",
     "output_type": "stream",
     "text": [
      "/home/sknt/miniconda3/envs/tf/lib/python3.10/site-packages/torch_geometric/deprecation.py:22: UserWarning: 'data.DataLoader' is deprecated, use 'loader.DataLoader' instead\n",
      "  warnings.warn(out)\n"
     ]
    },
    {
     "name": "stdout",
     "output_type": "stream",
     "text": [
      "Epoch 1/4, Average Loss: 0.1051\n",
      "Epoch 2/4, Average Loss: 0.0856\n",
      "Epoch 3/4, Average Loss: 0.0670\n",
      "Epoch 4/4, Average Loss: 0.1105\n"
     ]
    }
   ],
   "source": [
    "# import torch\n",
    "# import torch.nn as nn\n",
    "# import torch.optim as optim\n",
    "# from torch_geometric.data import DataLoader\n",
    "# from torch_geometric.nn import GATConv, global_add_pool\n",
    "# from torch_geometric.data import Data\n",
    "\n",
    "# # Define the GNN model with GAT\n",
    "# class GNN(nn.Module):\n",
    "#     def __init__(self, input_dim, hidden_dim, output_dim, num_layers):\n",
    "#         super(GNN, self).__init__()\n",
    "#         self.convs = nn.ModuleList()\n",
    "#         self.convs.append(GATConv(input_dim, hidden_dim, heads=4))\n",
    "#         for _ in range(num_layers - 1):\n",
    "#             self.convs.append(GATConv(hidden_dim * 4, hidden_dim, heads=4))\n",
    "#         self.fc = nn.Linear(hidden_dim * 4, output_dim)\n",
    "\n",
    "#     def forward(self, data):\n",
    "#         x, edge_index, batch = data.x, data.edge_index, data.batch\n",
    "\n",
    "#         # GAT layers\n",
    "#         for conv in self.convs:\n",
    "#             x = conv(x, edge_index)\n",
    "#             x = torch.relu(x)\n",
    "\n",
    "#         x = global_add_pool(x, batch)\n",
    "#         x = self.fc(x)\n",
    "#         return x\n",
    "\n",
    "# # Convert the graph dataset to PyG format\n",
    "# pyg_data_list = []\n",
    "# for graph, label in graphs:\n",
    "#     x = torch.stack([graph.nodes[node]['features'] for node in graph.nodes])\n",
    "#     edge_index = torch.tensor([list(edge) for edge in graph.edges]).t().contiguous()\n",
    "#     y = torch.tensor([label], dtype=torch.long)\n",
    "#     pyg_data_list.append(Data(x=x, edge_index=edge_index, y=y))\n",
    "\n",
    "# # Create data loader for batch processing\n",
    "# batch_size = 64\n",
    "# data_loader = DataLoader(pyg_data_list, batch_size=batch_size, shuffle=True)\n",
    "\n",
    "# # Initialize the GNN model\n",
    "# input_dim = len(vocab_list)\n",
    "# hidden_dim = 64\n",
    "# output_dim = 2  # Assuming binary classification (doctor vs. not doctor)\n",
    "# num_layers = 3  # Increase the number of layers\n",
    "# model = GNN(input_dim, hidden_dim, output_dim, num_layers)\n",
    "\n",
    "# # Define the loss function and optimizer\n",
    "# criterion = nn.CrossEntropyLoss()\n",
    "# optimizer = optim.Adam(model.parameters(), lr=0.01)\n",
    "\n",
    "# # Training loop\n",
    "# num_epochs = 4\n",
    "# model.train()\n",
    "# for epoch in range(num_epochs):\n",
    "#     total_loss = 0\n",
    "#     for data in data_loader:\n",
    "#         optimizer.zero_grad()\n",
    "#         output = model(data)\n",
    "#         loss = criterion(output, data.y.squeeze())\n",
    "#         loss.backward()\n",
    "#         optimizer.step()\n",
    "#         total_loss += loss.item()\n",
    "#     avg_loss = total_loss / len(data_loader)\n",
    "#     print(f\"Epoch {epoch+1}/{num_epochs}, Average Loss: {avg_loss:.4f}\")\n"
   ]
  },
  {
   "cell_type": "code",
   "execution_count": null,
   "metadata": {
    "id": "O8HlKvx7SaJX"
   },
   "outputs": [],
   "source": [
    "torch.save(model.state_dict(), 'gnn_model.pt')"
   ]
  },
  {
   "cell_type": "code",
   "execution_count": 42,
   "metadata": {
    "id": "u5SUwNzO7_Lt"
   },
   "outputs": [
    {
     "name": "stderr",
     "output_type": "stream",
     "text": [
      "100%|███████████████████████████████████| 28493/28493 [00:27<00:00, 1018.36it/s]\n"
     ]
    }
   ],
   "source": [
    "# Assuming you have a trained GNN model named 'model'\n",
    "# and new_data contains the keyword instances for prediction\n",
    "\n",
    "# Convert new_data to the graph format\n",
    "\n",
    "new_graphs = []\n",
    "for instance in tqdm.tqdm(new_data):\n",
    "    graph = nx.Graph()\n",
    "    keywords = instance['keyword']\n",
    "    for i, keyword in enumerate(keywords):\n",
    "        if keyword in vocab_list:\n",
    "            one_hot_tensor = one_hot_dict[keyword]\n",
    "            graph.add_node(i, features=one_hot_tensor)\n",
    "    edges = list(itertools.combinations(range(len(keywords)), 2))\n",
    "    graph.add_edges_from(edges)\n",
    "    new_graphs.append(graph)\n"
   ]
  },
  {
   "cell_type": "code",
   "execution_count": 43,
   "metadata": {
    "colab": {
     "base_uri": "https://localhost:8080/"
    },
    "id": "wTKh38o8_OHs",
    "outputId": "ef12f020-b8c9-4e72-d1d4-da5e56a1c765"
   },
   "outputs": [
    {
     "name": "stderr",
     "output_type": "stream",
     "text": [
      "prediction: 100%|████████████████████████| 28493/28493 [01:25<00:00, 332.93it/s]\n"
     ]
    }
   ],
   "source": [
    "# Predict labels for the new data\n",
    "model.eval()\n",
    "predictions = []\n",
    "for graph in tqdm.tqdm(new_graphs, desc=\"prediction\"):\n",
    "    # Convert the graph to PyG format\n",
    "    node_indices = list(graph.nodes())\n",
    "    x = torch.empty(len(node_indices), input_dim)  # Create an empty tensor for node features\n",
    "    edge_index = torch.tensor(list(graph.edges)).t().contiguous()\n",
    "    data = Data(x=x, edge_index=edge_index)\n",
    "\n",
    "    # Assign the node features to the data tensor\n",
    "    for i, node_index in enumerate(node_indices):\n",
    "        x[i] = graph.nodes[node_index]['features']\n",
    "\n",
    "    # Forward pass through the model\n",
    "    with torch.no_grad():\n",
    "        output = model(data)\n",
    "\n",
    "    # Get the predicted label (assumes binary classification)\n",
    "    predicted_label = torch.argmax(output).item()\n",
    "    predictions.append(predicted_label)\n"
   ]
  },
  {
   "cell_type": "code",
   "execution_count": 45,
   "metadata": {},
   "outputs": [],
   "source": [
    "test_sub = pd.read_csv('/home/sknt/Desktop/GNN-MILP_1/Aman_test/Doceree_Complete_DataSet-20230627T054239Z-001/Doceree_Complete_DataSet/Doceree-HCP_Test.csv')"
   ]
  },
  {
   "cell_type": "code",
   "execution_count": 46,
   "metadata": {},
   "outputs": [],
   "source": [
    "test_sub = test_sub[['ID']]"
   ]
  },
  {
   "cell_type": "code",
   "execution_count": 47,
   "metadata": {},
   "outputs": [],
   "source": [
    "predictions = pd.DataFrame(predictions, columns = ['IS_HCP'])"
   ]
  },
  {
   "cell_type": "code",
   "execution_count": 48,
   "metadata": {},
   "outputs": [
    {
     "data": {
      "text/plain": [
       "pandas.core.frame.DataFrame"
      ]
     },
     "execution_count": 48,
     "metadata": {},
     "output_type": "execute_result"
    }
   ],
   "source": [
    "type(test_sub)"
   ]
  },
  {
   "cell_type": "code",
   "execution_count": 49,
   "metadata": {},
   "outputs": [],
   "source": [
    "final_submission = pd.concat([test_sub,predictions],axis=1)"
   ]
  },
  {
   "cell_type": "code",
   "execution_count": 50,
   "metadata": {},
   "outputs": [
    {
     "data": {
      "text/html": [
       "<div>\n",
       "<style scoped>\n",
       "    .dataframe tbody tr th:only-of-type {\n",
       "        vertical-align: middle;\n",
       "    }\n",
       "\n",
       "    .dataframe tbody tr th {\n",
       "        vertical-align: top;\n",
       "    }\n",
       "\n",
       "    .dataframe thead th {\n",
       "        text-align: right;\n",
       "    }\n",
       "</style>\n",
       "<table border=\"1\" class=\"dataframe\">\n",
       "  <thead>\n",
       "    <tr style=\"text-align: right;\">\n",
       "      <th></th>\n",
       "      <th>ID</th>\n",
       "      <th>IS_HCP</th>\n",
       "    </tr>\n",
       "  </thead>\n",
       "  <tbody>\n",
       "    <tr>\n",
       "      <th>0</th>\n",
       "      <td>115501</td>\n",
       "      <td>0</td>\n",
       "    </tr>\n",
       "    <tr>\n",
       "      <th>1</th>\n",
       "      <td>115502</td>\n",
       "      <td>1</td>\n",
       "    </tr>\n",
       "    <tr>\n",
       "      <th>2</th>\n",
       "      <td>115503</td>\n",
       "      <td>0</td>\n",
       "    </tr>\n",
       "    <tr>\n",
       "      <th>3</th>\n",
       "      <td>115504</td>\n",
       "      <td>0</td>\n",
       "    </tr>\n",
       "    <tr>\n",
       "      <th>4</th>\n",
       "      <td>115505</td>\n",
       "      <td>1</td>\n",
       "    </tr>\n",
       "    <tr>\n",
       "      <th>...</th>\n",
       "      <td>...</td>\n",
       "      <td>...</td>\n",
       "    </tr>\n",
       "    <tr>\n",
       "      <th>28488</th>\n",
       "      <td>143989</td>\n",
       "      <td>0</td>\n",
       "    </tr>\n",
       "    <tr>\n",
       "      <th>28489</th>\n",
       "      <td>143990</td>\n",
       "      <td>0</td>\n",
       "    </tr>\n",
       "    <tr>\n",
       "      <th>28490</th>\n",
       "      <td>143991</td>\n",
       "      <td>0</td>\n",
       "    </tr>\n",
       "    <tr>\n",
       "      <th>28491</th>\n",
       "      <td>143992</td>\n",
       "      <td>0</td>\n",
       "    </tr>\n",
       "    <tr>\n",
       "      <th>28492</th>\n",
       "      <td>143993</td>\n",
       "      <td>0</td>\n",
       "    </tr>\n",
       "  </tbody>\n",
       "</table>\n",
       "<p>28493 rows × 2 columns</p>\n",
       "</div>"
      ],
      "text/plain": [
       "           ID  IS_HCP\n",
       "0      115501       0\n",
       "1      115502       1\n",
       "2      115503       0\n",
       "3      115504       0\n",
       "4      115505       1\n",
       "...       ...     ...\n",
       "28488  143989       0\n",
       "28489  143990       0\n",
       "28490  143991       0\n",
       "28491  143992       0\n",
       "28492  143993       0\n",
       "\n",
       "[28493 rows x 2 columns]"
      ]
     },
     "execution_count": 50,
     "metadata": {},
     "output_type": "execute_result"
    }
   ],
   "source": [
    "final_submission"
   ]
  },
  {
   "cell_type": "code",
   "execution_count": 51,
   "metadata": {},
   "outputs": [],
   "source": [
    "final_submission.to_csv('final_submission.csv',index=False)"
   ]
  }
 ],
 "metadata": {
  "colab": {
   "provenance": []
  },
  "kernelspec": {
   "display_name": "Python 3 (ipykernel)",
   "language": "python",
   "name": "python3"
  },
  "language_info": {
   "codemirror_mode": {
    "name": "ipython",
    "version": 3
   },
   "file_extension": ".py",
   "mimetype": "text/x-python",
   "name": "python",
   "nbconvert_exporter": "python",
   "pygments_lexer": "ipython3",
   "version": "3.10.11"
  }
 },
 "nbformat": 4,
 "nbformat_minor": 1
}
