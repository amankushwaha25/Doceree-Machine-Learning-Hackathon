{
  "cells": [
    {
      "cell_type": "code",
      "execution_count": 2,
      "metadata": {
        "id": "aiInFAVqigWZ"
      },
      "outputs": [],
      "source": [
        "import pandas as pd"
      ]
    },
    {
      "cell_type": "code",
      "source": [
        "from google.colab import drive\n",
        "drive.mount('/content/drive')"
      ],
      "metadata": {
        "colab": {
          "base_uri": "https://localhost:8080/"
        },
        "id": "AcLL_lGQu1SO",
        "outputId": "e3569fa2-a1ec-453a-a7bb-c9de3a43993b"
      },
      "execution_count": 3,
      "outputs": [
        {
          "output_type": "stream",
          "name": "stdout",
          "text": [
            "Mounted at /content/drive\n"
          ]
        }
      ]
    },
    {
      "cell_type": "code",
      "source": [
        "import pandas as pd\n",
        "df=pd.read_csv(\"/content/drive/MyDrive/HCP/Doceree-HCP_Train.csv\",encoding='latin-1')\n",
        "df.head(10)\n",
        "dft=pd.read_csv(\"/content/drive/MyDrive/HCP/Doceree-HCP_Test.csv\",encoding='latin-1')\n",
        "dft.head(10)"
      ],
      "metadata": {
        "colab": {
          "base_uri": "https://localhost:8080/",
          "height": 634
        },
        "id": "bp6Uzr1_mYzP",
        "outputId": "6c9085ca-a532-49ee-c0e5-a26693130353"
      },
      "execution_count": 4,
      "outputs": [
        {
          "output_type": "execute_result",
          "data": {
            "text/plain": [
              "       ID DEVICETYPE  PLATFORM_ID     BIDREQUESTIP  \\\n",
              "0  115501    Desktop            2   75.189.231.103   \n",
              "1  115502     Mobile            2    24.101.33.158   \n",
              "2  115503    Desktop            2  172.118.216.142   \n",
              "3  115504    Desktop            7   71.105.120.171   \n",
              "4  115505    Desktop            2     73.82.211.73   \n",
              "\n",
              "                        USERPLATFORMUID       USERCITY  USERZIPCODE  \\\n",
              "0  0d5041ff-f0b6-4d1a-9ad7-0a29f7d485b4   Fayetteville      28305.0   \n",
              "1  c8396dd0-969f-4d99-a40b-b7bb1f516154  Conneaut Lake      16316.0   \n",
              "2  3c97a081-6518-43f8-9f26-369759cfb471         Covina      91724.0   \n",
              "3  3e2578c8-f794-41af-a38c-c5cfb3c0f014       Brooklyn      11226.0   \n",
              "4  ec2ae7ce-6a8c-4156-98a7-07203e60f483       Marietta      30062.0   \n",
              "\n",
              "                                           USERAGENT            PLATFORMTYPE  \\\n",
              "0  Mozilla/5.0 (Macintosh; Intel Mac OS X 10_11_6...  Online Medical Journal   \n",
              "1  Mozilla/5.0 (iPhone; CPU iPhone OS 15_6_1 like...  Online Medical Journal   \n",
              "2  Mozilla/5.0 (Macintosh; Intel Mac OS X 10_15_7...  Online Medical Journal   \n",
              "3  Mozilla/5.0 (Macintosh; Intel Mac OS X 10_15_7...  Online Medical Journal   \n",
              "4  Mozilla/5.0 (Windows NT 10.0; Win64; x64) Appl...  Online Medical Journal   \n",
              "\n",
              "  CHANNELTYPE                                                URL  \\\n",
              "0     Website  https://www.clinicaladvisor.com/home/features/...   \n",
              "1     Website  https://www.ophthalmologyadvisor.com/topics/ca...   \n",
              "2     Website  https://www.psychiatryadvisor.com/author/tori-...   \n",
              "3     Website  https://www.cureus.com/articles/105482-diverti...   \n",
              "4     Website  https://www.renalandurologynews.com/home/confe...   \n",
              "\n",
              "                                            KEYWORDS  \n",
              "0  Family Practice|Drainage|Clinical|Dermatology|...  \n",
              "1  General|Clinical|Operative|Medicine|Cardiology...  \n",
              "2  Abortion|Anxiety Disorders|Apnea|False|Trauma|...  \n",
              "3  Health|Male|Neurological Surgery|Otolaryngolog...  \n",
              "4  chronic kidney disease|pain|nephrology|disease...  "
            ],
            "text/html": [
              "\n",
              "  <div id=\"df-c82d7f06-4b6c-4fd5-88c1-35d4781fc1ce\">\n",
              "    <div class=\"colab-df-container\">\n",
              "      <div>\n",
              "<style scoped>\n",
              "    .dataframe tbody tr th:only-of-type {\n",
              "        vertical-align: middle;\n",
              "    }\n",
              "\n",
              "    .dataframe tbody tr th {\n",
              "        vertical-align: top;\n",
              "    }\n",
              "\n",
              "    .dataframe thead th {\n",
              "        text-align: right;\n",
              "    }\n",
              "</style>\n",
              "<table border=\"1\" class=\"dataframe\">\n",
              "  <thead>\n",
              "    <tr style=\"text-align: right;\">\n",
              "      <th></th>\n",
              "      <th>ID</th>\n",
              "      <th>DEVICETYPE</th>\n",
              "      <th>PLATFORM_ID</th>\n",
              "      <th>BIDREQUESTIP</th>\n",
              "      <th>USERPLATFORMUID</th>\n",
              "      <th>USERCITY</th>\n",
              "      <th>USERZIPCODE</th>\n",
              "      <th>USERAGENT</th>\n",
              "      <th>PLATFORMTYPE</th>\n",
              "      <th>CHANNELTYPE</th>\n",
              "      <th>URL</th>\n",
              "      <th>KEYWORDS</th>\n",
              "    </tr>\n",
              "  </thead>\n",
              "  <tbody>\n",
              "    <tr>\n",
              "      <th>0</th>\n",
              "      <td>115501</td>\n",
              "      <td>Desktop</td>\n",
              "      <td>2</td>\n",
              "      <td>75.189.231.103</td>\n",
              "      <td>0d5041ff-f0b6-4d1a-9ad7-0a29f7d485b4</td>\n",
              "      <td>Fayetteville</td>\n",
              "      <td>28305.0</td>\n",
              "      <td>Mozilla/5.0 (Macintosh; Intel Mac OS X 10_11_6...</td>\n",
              "      <td>Online Medical Journal</td>\n",
              "      <td>Website</td>\n",
              "      <td>https://www.clinicaladvisor.com/home/features/...</td>\n",
              "      <td>Family Practice|Drainage|Clinical|Dermatology|...</td>\n",
              "    </tr>\n",
              "    <tr>\n",
              "      <th>1</th>\n",
              "      <td>115502</td>\n",
              "      <td>Mobile</td>\n",
              "      <td>2</td>\n",
              "      <td>24.101.33.158</td>\n",
              "      <td>c8396dd0-969f-4d99-a40b-b7bb1f516154</td>\n",
              "      <td>Conneaut Lake</td>\n",
              "      <td>16316.0</td>\n",
              "      <td>Mozilla/5.0 (iPhone; CPU iPhone OS 15_6_1 like...</td>\n",
              "      <td>Online Medical Journal</td>\n",
              "      <td>Website</td>\n",
              "      <td>https://www.ophthalmologyadvisor.com/topics/ca...</td>\n",
              "      <td>General|Clinical|Operative|Medicine|Cardiology...</td>\n",
              "    </tr>\n",
              "    <tr>\n",
              "      <th>2</th>\n",
              "      <td>115503</td>\n",
              "      <td>Desktop</td>\n",
              "      <td>2</td>\n",
              "      <td>172.118.216.142</td>\n",
              "      <td>3c97a081-6518-43f8-9f26-369759cfb471</td>\n",
              "      <td>Covina</td>\n",
              "      <td>91724.0</td>\n",
              "      <td>Mozilla/5.0 (Macintosh; Intel Mac OS X 10_15_7...</td>\n",
              "      <td>Online Medical Journal</td>\n",
              "      <td>Website</td>\n",
              "      <td>https://www.psychiatryadvisor.com/author/tori-...</td>\n",
              "      <td>Abortion|Anxiety Disorders|Apnea|False|Trauma|...</td>\n",
              "    </tr>\n",
              "    <tr>\n",
              "      <th>3</th>\n",
              "      <td>115504</td>\n",
              "      <td>Desktop</td>\n",
              "      <td>7</td>\n",
              "      <td>71.105.120.171</td>\n",
              "      <td>3e2578c8-f794-41af-a38c-c5cfb3c0f014</td>\n",
              "      <td>Brooklyn</td>\n",
              "      <td>11226.0</td>\n",
              "      <td>Mozilla/5.0 (Macintosh; Intel Mac OS X 10_15_7...</td>\n",
              "      <td>Online Medical Journal</td>\n",
              "      <td>Website</td>\n",
              "      <td>https://www.cureus.com/articles/105482-diverti...</td>\n",
              "      <td>Health|Male|Neurological Surgery|Otolaryngolog...</td>\n",
              "    </tr>\n",
              "    <tr>\n",
              "      <th>4</th>\n",
              "      <td>115505</td>\n",
              "      <td>Desktop</td>\n",
              "      <td>2</td>\n",
              "      <td>73.82.211.73</td>\n",
              "      <td>ec2ae7ce-6a8c-4156-98a7-07203e60f483</td>\n",
              "      <td>Marietta</td>\n",
              "      <td>30062.0</td>\n",
              "      <td>Mozilla/5.0 (Windows NT 10.0; Win64; x64) Appl...</td>\n",
              "      <td>Online Medical Journal</td>\n",
              "      <td>Website</td>\n",
              "      <td>https://www.renalandurologynews.com/home/confe...</td>\n",
              "      <td>chronic kidney disease|pain|nephrology|disease...</td>\n",
              "    </tr>\n",
              "  </tbody>\n",
              "</table>\n",
              "</div>\n",
              "      <button class=\"colab-df-convert\" onclick=\"convertToInteractive('df-c82d7f06-4b6c-4fd5-88c1-35d4781fc1ce')\"\n",
              "              title=\"Convert this dataframe to an interactive table.\"\n",
              "              style=\"display:none;\">\n",
              "        \n",
              "  <svg xmlns=\"http://www.w3.org/2000/svg\" height=\"24px\"viewBox=\"0 0 24 24\"\n",
              "       width=\"24px\">\n",
              "    <path d=\"M0 0h24v24H0V0z\" fill=\"none\"/>\n",
              "    <path d=\"M18.56 5.44l.94 2.06.94-2.06 2.06-.94-2.06-.94-.94-2.06-.94 2.06-2.06.94zm-11 1L8.5 8.5l.94-2.06 2.06-.94-2.06-.94L8.5 2.5l-.94 2.06-2.06.94zm10 10l.94 2.06.94-2.06 2.06-.94-2.06-.94-.94-2.06-.94 2.06-2.06.94z\"/><path d=\"M17.41 7.96l-1.37-1.37c-.4-.4-.92-.59-1.43-.59-.52 0-1.04.2-1.43.59L10.3 9.45l-7.72 7.72c-.78.78-.78 2.05 0 2.83L4 21.41c.39.39.9.59 1.41.59.51 0 1.02-.2 1.41-.59l7.78-7.78 2.81-2.81c.8-.78.8-2.07 0-2.86zM5.41 20L4 18.59l7.72-7.72 1.47 1.35L5.41 20z\"/>\n",
              "  </svg>\n",
              "      </button>\n",
              "      \n",
              "  <style>\n",
              "    .colab-df-container {\n",
              "      display:flex;\n",
              "      flex-wrap:wrap;\n",
              "      gap: 12px;\n",
              "    }\n",
              "\n",
              "    .colab-df-convert {\n",
              "      background-color: #E8F0FE;\n",
              "      border: none;\n",
              "      border-radius: 50%;\n",
              "      cursor: pointer;\n",
              "      display: none;\n",
              "      fill: #1967D2;\n",
              "      height: 32px;\n",
              "      padding: 0 0 0 0;\n",
              "      width: 32px;\n",
              "    }\n",
              "\n",
              "    .colab-df-convert:hover {\n",
              "      background-color: #E2EBFA;\n",
              "      box-shadow: 0px 1px 2px rgba(60, 64, 67, 0.3), 0px 1px 3px 1px rgba(60, 64, 67, 0.15);\n",
              "      fill: #174EA6;\n",
              "    }\n",
              "\n",
              "    [theme=dark] .colab-df-convert {\n",
              "      background-color: #3B4455;\n",
              "      fill: #D2E3FC;\n",
              "    }\n",
              "\n",
              "    [theme=dark] .colab-df-convert:hover {\n",
              "      background-color: #434B5C;\n",
              "      box-shadow: 0px 1px 3px 1px rgba(0, 0, 0, 0.15);\n",
              "      filter: drop-shadow(0px 1px 2px rgba(0, 0, 0, 0.3));\n",
              "      fill: #FFFFFF;\n",
              "    }\n",
              "  </style>\n",
              "\n",
              "      <script>\n",
              "        const buttonEl =\n",
              "          document.querySelector('#df-c82d7f06-4b6c-4fd5-88c1-35d4781fc1ce button.colab-df-convert');\n",
              "        buttonEl.style.display =\n",
              "          google.colab.kernel.accessAllowed ? 'block' : 'none';\n",
              "\n",
              "        async function convertToInteractive(key) {\n",
              "          const element = document.querySelector('#df-c82d7f06-4b6c-4fd5-88c1-35d4781fc1ce');\n",
              "          const dataTable =\n",
              "            await google.colab.kernel.invokeFunction('convertToInteractive',\n",
              "                                                     [key], {});\n",
              "          if (!dataTable) return;\n",
              "\n",
              "          const docLinkHtml = 'Like what you see? Visit the ' +\n",
              "            '<a target=\"_blank\" href=https://colab.research.google.com/notebooks/data_table.ipynb>data table notebook</a>'\n",
              "            + ' to learn more about interactive tables.';\n",
              "          element.innerHTML = '';\n",
              "          dataTable['output_type'] = 'display_data';\n",
              "          await google.colab.output.renderOutput(dataTable, element);\n",
              "          const docLink = document.createElement('div');\n",
              "          docLink.innerHTML = docLinkHtml;\n",
              "          element.appendChild(docLink);\n",
              "        }\n",
              "      </script>\n",
              "    </div>\n",
              "  </div>\n",
              "  "
            ]
          },
          "metadata": {},
          "execution_count": 4
        }
      ]
    },
    {
      "cell_type": "code",
      "execution_count": 5,
      "metadata": {
        "colab": {
          "base_uri": "https://localhost:8080/"
        },
        "id": "OCit6ArIigWc",
        "outputId": "0c1d1a82-c40a-46b9-c651-3e04c96497a0"
      },
      "outputs": [
        {
          "output_type": "execute_result",
          "data": {
            "text/plain": [
              "28493"
            ]
          },
          "metadata": {},
          "execution_count": 5
        }
      ],
      "source": [
        "len(dft)"
      ]
    },
    {
      "cell_type": "code",
      "execution_count": 6,
      "metadata": {
        "id": "oQfHsm4higWc"
      },
      "outputs": [],
      "source": [
        "df3=df['USERZIPCODE'].fillna(0)"
      ]
    },
    {
      "cell_type": "code",
      "execution_count": 7,
      "metadata": {
        "colab": {
          "base_uri": "https://localhost:8080/"
        },
        "id": "KQLHb3ruPjEM",
        "outputId": "fa25521f-0abe-4a91-9b42-106c01b36f02"
      },
      "outputs": [
        {
          "output_type": "execute_result",
          "data": {
            "text/plain": [
              "0        97206.0\n",
              "1        22202.0\n",
              "2        83654.0\n",
              "3    229114624.0\n",
              "4        77008.0\n",
              "Name: USERZIPCODE, dtype: float64"
            ]
          },
          "metadata": {},
          "execution_count": 7
        }
      ],
      "source": [
        "df3.head()"
      ]
    },
    {
      "cell_type": "code",
      "execution_count": 8,
      "metadata": {
        "id": "eBEc9pzVPtTi"
      },
      "outputs": [],
      "source": [
        "df['USERZIPCODE']=df3"
      ]
    },
    {
      "cell_type": "code",
      "source": [
        "df3=dft['USERZIPCODE'].fillna(0)\n",
        "dft['USERZIPCODE']=df3"
      ],
      "metadata": {
        "id": "XYmYrpfCm6GY"
      },
      "execution_count": 9,
      "outputs": []
    },
    {
      "cell_type": "code",
      "execution_count": 10,
      "metadata": {
        "colab": {
          "base_uri": "https://localhost:8080/"
        },
        "id": "6B_oIXVJP0Sk",
        "outputId": "42f91a4f-ac74-4ffa-9c3a-9b6586c74e6b"
      },
      "outputs": [
        {
          "output_type": "execute_result",
          "data": {
            "text/plain": [
              "ID                     0\n",
              "DEVICETYPE             0\n",
              "PLATFORM_ID            0\n",
              "BIDREQUESTIP           0\n",
              "USERPLATFORMUID        4\n",
              "USERCITY            6359\n",
              "USERZIPCODE            0\n",
              "USERAGENT              2\n",
              "PLATFORMTYPE           0\n",
              "CHANNELTYPE            0\n",
              "URL                    0\n",
              "KEYWORDS               0\n",
              "TAXONOMY           81624\n",
              "IS_HCP                 1\n",
              "dtype: int64"
            ]
          },
          "metadata": {},
          "execution_count": 10
        }
      ],
      "source": [
        "df.isna().sum()"
      ]
    },
    {
      "cell_type": "code",
      "execution_count": 11,
      "metadata": {
        "id": "SttGv21HMaTo"
      },
      "outputs": [],
      "source": [
        "df2=df['TAXONOMY'].fillna('None')"
      ]
    },
    {
      "cell_type": "code",
      "execution_count": 12,
      "metadata": {
        "id": "j4sa8G1zP-1Z"
      },
      "outputs": [],
      "source": [
        "df['TAXONOMY']=df2"
      ]
    },
    {
      "cell_type": "code",
      "execution_count": 13,
      "metadata": {
        "id": "nAqn1owVigWd"
      },
      "outputs": [],
      "source": [
        "df1=df['USERCITY'].fillna('Neutral')"
      ]
    },
    {
      "cell_type": "code",
      "execution_count": 14,
      "metadata": {
        "id": "kaPzrtmNQLgr"
      },
      "outputs": [],
      "source": [
        "df['USERCITY']=df1"
      ]
    },
    {
      "cell_type": "code",
      "source": [
        "df1=dft['USERCITY'].fillna('Neutral')\n",
        "dft['USERCITY']=df1"
      ],
      "metadata": {
        "id": "Br1WijuznLhT"
      },
      "execution_count": 15,
      "outputs": []
    },
    {
      "cell_type": "code",
      "execution_count": 16,
      "metadata": {
        "id": "z-QBN9gKQSiX"
      },
      "outputs": [],
      "source": [
        "dft=dft.dropna(axis=0)\n",
        "df=df.dropna(axis=0)"
      ]
    },
    {
      "cell_type": "code",
      "source": [
        "dft=dft.reset_index()\n",
        "df=df.reset_index()"
      ],
      "metadata": {
        "id": "WkHUI3CXnHuW"
      },
      "execution_count": 17,
      "outputs": []
    },
    {
      "cell_type": "code",
      "execution_count": 18,
      "metadata": {
        "colab": {
          "base_uri": "https://localhost:8080/"
        },
        "id": "NDvNHv2XigWd",
        "outputId": "db437c5f-d3fa-4800-cde3-a5c0dd04e0f4"
      },
      "outputs": [
        {
          "output_type": "execute_result",
          "data": {
            "text/plain": [
              "(113930, 15)"
            ]
          },
          "metadata": {},
          "execution_count": 18
        }
      ],
      "source": [
        "df.shape"
      ]
    },
    {
      "cell_type": "code",
      "execution_count": 19,
      "metadata": {
        "id": "NpAbIWeVigWd"
      },
      "outputs": [],
      "source": [
        "countTYHY=0\n",
        "countTNHY=0\n",
        "countTYHN=0\n",
        "count=0\n",
        "for i in range(len(df)):\n",
        "    # print(i)\n",
        "    if df['TAXONOMY'][i]!='None' and df['IS_HCP'][0]!=0.0:\n",
        "        countTYHY+=1\n",
        "    elif df['TAXONOMY'][i]=='None' and df['IS_HCP'][0]!=0.0:\n",
        "        countTNHY+=1\n",
        "    elif df['TAXONOMY'][i]!='None' and df['IS_HCP'][0]==0.0:\n",
        "        countTYHN+=1\n",
        "    else:\n",
        "        count+=1"
      ]
    },
    {
      "cell_type": "code",
      "execution_count": 20,
      "metadata": {
        "colab": {
          "base_uri": "https://localhost:8080/"
        },
        "id": "Jhe5ouFSigWe",
        "outputId": "8d5c75a4-7d95-48db-c437-3b5aa36924fd"
      },
      "outputs": [
        {
          "output_type": "stream",
          "name": "stdout",
          "text": [
            "32309 0 0 81621\n"
          ]
        }
      ],
      "source": [
        "print(countTYHN,countTNHY,countTYHY,count)"
      ]
    },
    {
      "cell_type": "code",
      "execution_count": 21,
      "metadata": {
        "colab": {
          "base_uri": "https://localhost:8080/"
        },
        "id": "AQtFFnbc8hIP",
        "outputId": "f9068636-2653-43ff-a04a-d1316428dc65"
      },
      "outputs": [
        {
          "output_type": "stream",
          "name": "stderr",
          "text": [
            "<ipython-input-21-f3a50766caba>:2: SettingWithCopyWarning: \n",
            "A value is trying to be set on a copy of a slice from a DataFrame\n",
            "\n",
            "See the caveats in the documentation: https://pandas.pydata.org/pandas-docs/stable/user_guide/indexing.html#returning-a-view-versus-a-copy\n",
            "  df['KEYWORDS'][i]=df['KEYWORDS'][i].split('|')\n"
          ]
        }
      ],
      "source": [
        "for i in range(len(df)):\n",
        "    df['KEYWORDS'][i]=df['KEYWORDS'][i].split('|')"
      ]
    },
    {
      "cell_type": "code",
      "source": [
        "for i in range(len(dft)):\n",
        "    dft['KEYWORDS'][i]=dft['KEYWORDS'][i].split('|')"
      ],
      "metadata": {
        "colab": {
          "base_uri": "https://localhost:8080/"
        },
        "id": "2YYuK8RXoQzk",
        "outputId": "aadd5455-eaa2-4dd2-9c7b-5d42c17ec78b"
      },
      "execution_count": 22,
      "outputs": [
        {
          "output_type": "stream",
          "name": "stderr",
          "text": [
            "<ipython-input-22-9358592fd76c>:2: SettingWithCopyWarning: \n",
            "A value is trying to be set on a copy of a slice from a DataFrame\n",
            "\n",
            "See the caveats in the documentation: https://pandas.pydata.org/pandas-docs/stable/user_guide/indexing.html#returning-a-view-versus-a-copy\n",
            "  dft['KEYWORDS'][i]=dft['KEYWORDS'][i].split('|')\n"
          ]
        }
      ]
    },
    {
      "cell_type": "code",
      "execution_count": 23,
      "metadata": {
        "colab": {
          "base_uri": "https://localhost:8080/"
        },
        "id": "JvZ9UVvrigXj",
        "outputId": "0f134bd9-f7c3-4251-dc99-a446fd1d6149"
      },
      "outputs": [
        {
          "output_type": "execute_result",
          "data": {
            "text/plain": [
              "(113930, 15)"
            ]
          },
          "metadata": {},
          "execution_count": 23
        }
      ],
      "source": [
        "df.shape"
      ]
    },
    {
      "cell_type": "code",
      "source": [
        "new_words=[]\n",
        "for i in range(len(df)):\n",
        "  for j in range(len(df['KEYWORDS'][i])):\n",
        "    if df['KEYWORDS'][i][j] not in new_words:\n",
        "      new_words.append(df['KEYWORDS'][i][j])\n",
        "print(len(new_words))"
      ],
      "metadata": {
        "colab": {
          "base_uri": "https://localhost:8080/"
        },
        "id": "zbQMvO8ijE0M",
        "outputId": "2657bcc9-b6ef-45f4-e95b-cf2625acb58a"
      },
      "execution_count": 24,
      "outputs": [
        {
          "output_type": "stream",
          "name": "stdout",
          "text": [
            "1614\n"
          ]
        }
      ]
    },
    {
      "cell_type": "code",
      "execution_count": 25,
      "metadata": {
        "colab": {
          "base_uri": "https://localhost:8080/"
        },
        "id": "gzJwLXWOigXp",
        "outputId": "0aa5241b-2d55-4654-af1d-ee85b7ca3abc"
      },
      "outputs": [
        {
          "output_type": "stream",
          "name": "stdout",
          "text": [
            "1427\n"
          ]
        }
      ],
      "source": [
        "new_words_t=[]\n",
        "for i in range(len(dft)):\n",
        "  for j in range(len(dft['KEYWORDS'][i])):\n",
        "    if dft['KEYWORDS'][i][j] not in new_words_t:\n",
        "      new_words_t.append(dft['KEYWORDS'][i][j])\n",
        "print(len(new_words_t))"
      ]
    },
    {
      "cell_type": "code",
      "source": [
        "count_diff=[]\n",
        "for i in range(len(new_words_t)):\n",
        "  if new_words_t[i] not in new_words:\n",
        "    count_diff.append(new_words_t[i])"
      ],
      "metadata": {
        "id": "SpSStPuqi9L-"
      },
      "execution_count": 26,
      "outputs": []
    },
    {
      "cell_type": "code",
      "source": [
        "count_diff1=[]\n",
        "for i in range(len(new_words)):\n",
        "  if new_words[i] not in new_words_t:\n",
        "    count_diff1.append(new_words[i])"
      ],
      "metadata": {
        "id": "qjUsty2FYaTB"
      },
      "execution_count": 27,
      "outputs": []
    },
    {
      "cell_type": "code",
      "source": [
        "len(count_diff)"
      ],
      "metadata": {
        "colab": {
          "base_uri": "https://localhost:8080/"
        },
        "id": "7FykA5_nrxCK",
        "outputId": "0517884d-f809-48bd-ed69-02b14aa4b46c"
      },
      "execution_count": 28,
      "outputs": [
        {
          "output_type": "execute_result",
          "data": {
            "text/plain": [
              "6"
            ]
          },
          "metadata": {},
          "execution_count": 28
        }
      ]
    },
    {
      "cell_type": "code",
      "source": [
        "for i in range(len(df)):\n",
        "  l1=[]\n",
        "  for j in range(len(df['KEYWORDS'][i])):\n",
        "    if df['KEYWORDS'][i][j] not in count_diff1:\n",
        "      l1.append(df['KEYWORDS'][i][j])\n",
        "  df['KEYWORDS'][i]=l1"
      ],
      "metadata": {
        "colab": {
          "base_uri": "https://localhost:8080/",
          "height": 432
        },
        "id": "LULIotISaI4r",
        "outputId": "b35e7692-c98f-4bae-b2b1-2745768138b6"
      },
      "execution_count": 31,
      "outputs": [
        {
          "output_type": "stream",
          "name": "stderr",
          "text": [
            "<ipython-input-31-7f145563c94e>:6: SettingWithCopyWarning: \n",
            "A value is trying to be set on a copy of a slice from a DataFrame\n",
            "\n",
            "See the caveats in the documentation: https://pandas.pydata.org/pandas-docs/stable/user_guide/indexing.html#returning-a-view-versus-a-copy\n",
            "  df['KEYWORDS'][i]=l1\n"
          ]
        },
        {
          "output_type": "error",
          "ename": "KeyboardInterrupt",
          "evalue": "ignored",
          "traceback": [
            "\u001b[0;31m---------------------------------------------------------------------------\u001b[0m",
            "\u001b[0;31mKeyboardInterrupt\u001b[0m                         Traceback (most recent call last)",
            "\u001b[0;32m<ipython-input-31-7f145563c94e>\u001b[0m in \u001b[0;36m<cell line: 1>\u001b[0;34m()\u001b[0m\n\u001b[1;32m      4\u001b[0m     \u001b[0;32mif\u001b[0m \u001b[0mdf\u001b[0m\u001b[0;34m[\u001b[0m\u001b[0;34m'KEYWORDS'\u001b[0m\u001b[0;34m]\u001b[0m\u001b[0;34m[\u001b[0m\u001b[0mi\u001b[0m\u001b[0;34m]\u001b[0m\u001b[0;34m[\u001b[0m\u001b[0mj\u001b[0m\u001b[0;34m]\u001b[0m \u001b[0;32mnot\u001b[0m \u001b[0;32min\u001b[0m \u001b[0mcount_diff1\u001b[0m\u001b[0;34m:\u001b[0m\u001b[0;34m\u001b[0m\u001b[0;34m\u001b[0m\u001b[0m\n\u001b[1;32m      5\u001b[0m       \u001b[0ml1\u001b[0m\u001b[0;34m.\u001b[0m\u001b[0mappend\u001b[0m\u001b[0;34m(\u001b[0m\u001b[0mdf\u001b[0m\u001b[0;34m[\u001b[0m\u001b[0;34m'KEYWORDS'\u001b[0m\u001b[0;34m]\u001b[0m\u001b[0;34m[\u001b[0m\u001b[0mi\u001b[0m\u001b[0;34m]\u001b[0m\u001b[0;34m[\u001b[0m\u001b[0mj\u001b[0m\u001b[0;34m]\u001b[0m\u001b[0;34m)\u001b[0m\u001b[0;34m\u001b[0m\u001b[0;34m\u001b[0m\u001b[0m\n\u001b[0;32m----> 6\u001b[0;31m   \u001b[0mdf\u001b[0m\u001b[0;34m[\u001b[0m\u001b[0;34m'KEYWORDS'\u001b[0m\u001b[0;34m]\u001b[0m\u001b[0;34m[\u001b[0m\u001b[0mi\u001b[0m\u001b[0;34m]\u001b[0m\u001b[0;34m=\u001b[0m\u001b[0ml1\u001b[0m\u001b[0;34m\u001b[0m\u001b[0;34m\u001b[0m\u001b[0m\n\u001b[0m",
            "\u001b[0;32m/usr/local/lib/python3.10/dist-packages/pandas/core/series.py\u001b[0m in \u001b[0;36m__setitem__\u001b[0;34m(self, key, value)\u001b[0m\n\u001b[1;32m   1170\u001b[0m \u001b[0;34m\u001b[0m\u001b[0m\n\u001b[1;32m   1171\u001b[0m         \u001b[0;32mif\u001b[0m \u001b[0mcacher_needs_updating\u001b[0m\u001b[0;34m:\u001b[0m\u001b[0;34m\u001b[0m\u001b[0;34m\u001b[0m\u001b[0m\n\u001b[0;32m-> 1172\u001b[0;31m             \u001b[0mself\u001b[0m\u001b[0;34m.\u001b[0m\u001b[0m_maybe_update_cacher\u001b[0m\u001b[0;34m(\u001b[0m\u001b[0minplace\u001b[0m\u001b[0;34m=\u001b[0m\u001b[0;32mTrue\u001b[0m\u001b[0;34m)\u001b[0m\u001b[0;34m\u001b[0m\u001b[0;34m\u001b[0m\u001b[0m\n\u001b[0m\u001b[1;32m   1173\u001b[0m \u001b[0;34m\u001b[0m\u001b[0m\n\u001b[1;32m   1174\u001b[0m     \u001b[0;32mdef\u001b[0m \u001b[0m_set_with_engine\u001b[0m\u001b[0;34m(\u001b[0m\u001b[0mself\u001b[0m\u001b[0;34m,\u001b[0m \u001b[0mkey\u001b[0m\u001b[0;34m,\u001b[0m \u001b[0mvalue\u001b[0m\u001b[0;34m)\u001b[0m \u001b[0;34m->\u001b[0m \u001b[0;32mNone\u001b[0m\u001b[0;34m:\u001b[0m\u001b[0;34m\u001b[0m\u001b[0;34m\u001b[0m\u001b[0m\n",
            "\u001b[0;32m/usr/local/lib/python3.10/dist-packages/pandas/core/series.py\u001b[0m in \u001b[0;36m_maybe_update_cacher\u001b[0;34m(self, clear, verify_is_copy, inplace)\u001b[0m\n\u001b[1;32m   1315\u001b[0m                 \u001b[0;31m# to ensure column still in dataframe\u001b[0m\u001b[0;34m\u001b[0m\u001b[0;34m\u001b[0m\u001b[0m\n\u001b[1;32m   1316\u001b[0m                 \u001b[0;31m# otherwise, either self or ref has swapped in new arrays\u001b[0m\u001b[0;34m\u001b[0m\u001b[0;34m\u001b[0m\u001b[0m\n\u001b[0;32m-> 1317\u001b[0;31m                 \u001b[0mref\u001b[0m\u001b[0;34m.\u001b[0m\u001b[0m_maybe_cache_changed\u001b[0m\u001b[0;34m(\u001b[0m\u001b[0mcacher\u001b[0m\u001b[0;34m[\u001b[0m\u001b[0;36m0\u001b[0m\u001b[0;34m]\u001b[0m\u001b[0;34m,\u001b[0m \u001b[0mself\u001b[0m\u001b[0;34m,\u001b[0m \u001b[0minplace\u001b[0m\u001b[0;34m=\u001b[0m\u001b[0minplace\u001b[0m\u001b[0;34m)\u001b[0m\u001b[0;34m\u001b[0m\u001b[0;34m\u001b[0m\u001b[0m\n\u001b[0m\u001b[1;32m   1318\u001b[0m             \u001b[0;32melse\u001b[0m\u001b[0;34m:\u001b[0m\u001b[0;34m\u001b[0m\u001b[0;34m\u001b[0m\u001b[0m\n\u001b[1;32m   1319\u001b[0m                 \u001b[0;31m# GH#33675 we have swapped in a new array, so parent\u001b[0m\u001b[0;34m\u001b[0m\u001b[0;34m\u001b[0m\u001b[0m\n",
            "\u001b[0;32m/usr/local/lib/python3.10/dist-packages/pandas/core/frame.py\u001b[0m in \u001b[0;36m_maybe_cache_changed\u001b[0;34m(self, item, value, inplace)\u001b[0m\n\u001b[1;32m   4300\u001b[0m         \u001b[0marraylike\u001b[0m \u001b[0;34m=\u001b[0m \u001b[0mvalue\u001b[0m\u001b[0;34m.\u001b[0m\u001b[0m_values\u001b[0m\u001b[0;34m\u001b[0m\u001b[0;34m\u001b[0m\u001b[0m\n\u001b[1;32m   4301\u001b[0m \u001b[0;34m\u001b[0m\u001b[0m\n\u001b[0;32m-> 4302\u001b[0;31m         \u001b[0mold\u001b[0m \u001b[0;34m=\u001b[0m \u001b[0mself\u001b[0m\u001b[0;34m.\u001b[0m\u001b[0m_ixs\u001b[0m\u001b[0;34m(\u001b[0m\u001b[0mloc\u001b[0m\u001b[0;34m,\u001b[0m \u001b[0maxis\u001b[0m\u001b[0;34m=\u001b[0m\u001b[0;36m1\u001b[0m\u001b[0;34m)\u001b[0m\u001b[0;34m\u001b[0m\u001b[0;34m\u001b[0m\u001b[0m\n\u001b[0m\u001b[1;32m   4303\u001b[0m         \u001b[0;32mif\u001b[0m \u001b[0mold\u001b[0m\u001b[0;34m.\u001b[0m\u001b[0m_values\u001b[0m \u001b[0;32mis\u001b[0m \u001b[0mvalue\u001b[0m\u001b[0;34m.\u001b[0m\u001b[0m_values\u001b[0m \u001b[0;32mand\u001b[0m \u001b[0minplace\u001b[0m\u001b[0;34m:\u001b[0m\u001b[0;34m\u001b[0m\u001b[0;34m\u001b[0m\u001b[0m\n\u001b[1;32m   4304\u001b[0m             \u001b[0;31m# GH#46149 avoid making unnecessary copies/block-splitting\u001b[0m\u001b[0;34m\u001b[0m\u001b[0;34m\u001b[0m\u001b[0m\n",
            "\u001b[0;32m/usr/local/lib/python3.10/dist-packages/pandas/core/frame.py\u001b[0m in \u001b[0;36m_ixs\u001b[0;34m(self, i, axis)\u001b[0m\n\u001b[1;32m   3729\u001b[0m \u001b[0;34m\u001b[0m\u001b[0m\n\u001b[1;32m   3730\u001b[0m             \u001b[0mcol_mgr\u001b[0m \u001b[0;34m=\u001b[0m \u001b[0mself\u001b[0m\u001b[0;34m.\u001b[0m\u001b[0m_mgr\u001b[0m\u001b[0;34m.\u001b[0m\u001b[0miget\u001b[0m\u001b[0;34m(\u001b[0m\u001b[0mi\u001b[0m\u001b[0;34m)\u001b[0m\u001b[0;34m\u001b[0m\u001b[0;34m\u001b[0m\u001b[0m\n\u001b[0;32m-> 3731\u001b[0;31m             \u001b[0mresult\u001b[0m \u001b[0;34m=\u001b[0m \u001b[0mself\u001b[0m\u001b[0;34m.\u001b[0m\u001b[0m_box_col_values\u001b[0m\u001b[0;34m(\u001b[0m\u001b[0mcol_mgr\u001b[0m\u001b[0;34m,\u001b[0m \u001b[0mi\u001b[0m\u001b[0;34m)\u001b[0m\u001b[0;34m\u001b[0m\u001b[0;34m\u001b[0m\u001b[0m\n\u001b[0m\u001b[1;32m   3732\u001b[0m \u001b[0;34m\u001b[0m\u001b[0m\n\u001b[1;32m   3733\u001b[0m             \u001b[0;31m# this is a cached value, mark it so\u001b[0m\u001b[0;34m\u001b[0m\u001b[0;34m\u001b[0m\u001b[0m\n",
            "\u001b[0;32m/usr/local/lib/python3.10/dist-packages/pandas/core/frame.py\u001b[0m in \u001b[0;36m_box_col_values\u001b[0;34m(self, values, loc)\u001b[0m\n\u001b[1;32m   4264\u001b[0m         \u001b[0mklass\u001b[0m \u001b[0;34m=\u001b[0m \u001b[0mself\u001b[0m\u001b[0;34m.\u001b[0m\u001b[0m_constructor_sliced\u001b[0m\u001b[0;34m\u001b[0m\u001b[0;34m\u001b[0m\u001b[0m\n\u001b[1;32m   4265\u001b[0m         \u001b[0;31m# We get index=self.index bc values is a SingleDataManager\u001b[0m\u001b[0;34m\u001b[0m\u001b[0;34m\u001b[0m\u001b[0m\n\u001b[0;32m-> 4266\u001b[0;31m         \u001b[0;32mreturn\u001b[0m \u001b[0mklass\u001b[0m\u001b[0;34m(\u001b[0m\u001b[0mvalues\u001b[0m\u001b[0;34m,\u001b[0m \u001b[0mname\u001b[0m\u001b[0;34m=\u001b[0m\u001b[0mname\u001b[0m\u001b[0;34m,\u001b[0m \u001b[0mfastpath\u001b[0m\u001b[0;34m=\u001b[0m\u001b[0;32mTrue\u001b[0m\u001b[0;34m)\u001b[0m\u001b[0;34m.\u001b[0m\u001b[0m__finalize__\u001b[0m\u001b[0;34m(\u001b[0m\u001b[0mself\u001b[0m\u001b[0;34m)\u001b[0m\u001b[0;34m\u001b[0m\u001b[0;34m\u001b[0m\u001b[0m\n\u001b[0m\u001b[1;32m   4267\u001b[0m \u001b[0;34m\u001b[0m\u001b[0m\n\u001b[1;32m   4268\u001b[0m     \u001b[0;31m# ----------------------------------------------------------------------\u001b[0m\u001b[0;34m\u001b[0m\u001b[0;34m\u001b[0m\u001b[0m\n",
            "\u001b[0;32m/usr/local/lib/python3.10/dist-packages/pandas/core/series.py\u001b[0m in \u001b[0;36m__init__\u001b[0;34m(self, data, index, dtype, name, copy, fastpath)\u001b[0m\n\u001b[1;32m    357\u001b[0m         ):\n\u001b[1;32m    358\u001b[0m             \u001b[0;31m# GH#33357 called with just the SingleBlockManager\u001b[0m\u001b[0;34m\u001b[0m\u001b[0;34m\u001b[0m\u001b[0m\n\u001b[0;32m--> 359\u001b[0;31m             \u001b[0mNDFrame\u001b[0m\u001b[0;34m.\u001b[0m\u001b[0m__init__\u001b[0m\u001b[0;34m(\u001b[0m\u001b[0mself\u001b[0m\u001b[0;34m,\u001b[0m \u001b[0mdata\u001b[0m\u001b[0;34m)\u001b[0m\u001b[0;34m\u001b[0m\u001b[0;34m\u001b[0m\u001b[0m\n\u001b[0m\u001b[1;32m    360\u001b[0m             \u001b[0;32mif\u001b[0m \u001b[0mfastpath\u001b[0m\u001b[0;34m:\u001b[0m\u001b[0;34m\u001b[0m\u001b[0;34m\u001b[0m\u001b[0m\n\u001b[1;32m    361\u001b[0m                 \u001b[0;31m# e.g. from _box_col_values, skip validation of name\u001b[0m\u001b[0;34m\u001b[0m\u001b[0;34m\u001b[0m\u001b[0m\n",
            "\u001b[0;32m/usr/local/lib/python3.10/dist-packages/pandas/core/generic.py\u001b[0m in \u001b[0;36m__init__\u001b[0;34m(self, data, copy, attrs)\u001b[0m\n\u001b[1;32m    273\u001b[0m             \u001b[0mattrs\u001b[0m \u001b[0;34m=\u001b[0m \u001b[0mdict\u001b[0m\u001b[0;34m(\u001b[0m\u001b[0mattrs\u001b[0m\u001b[0;34m)\u001b[0m\u001b[0;34m\u001b[0m\u001b[0;34m\u001b[0m\u001b[0m\n\u001b[1;32m    274\u001b[0m         \u001b[0mobject\u001b[0m\u001b[0;34m.\u001b[0m\u001b[0m__setattr__\u001b[0m\u001b[0;34m(\u001b[0m\u001b[0mself\u001b[0m\u001b[0;34m,\u001b[0m \u001b[0;34m\"_attrs\"\u001b[0m\u001b[0;34m,\u001b[0m \u001b[0mattrs\u001b[0m\u001b[0;34m)\u001b[0m\u001b[0;34m\u001b[0m\u001b[0;34m\u001b[0m\u001b[0m\n\u001b[0;32m--> 275\u001b[0;31m         \u001b[0mobject\u001b[0m\u001b[0;34m.\u001b[0m\u001b[0m__setattr__\u001b[0m\u001b[0;34m(\u001b[0m\u001b[0mself\u001b[0m\u001b[0;34m,\u001b[0m \u001b[0;34m\"_flags\"\u001b[0m\u001b[0;34m,\u001b[0m \u001b[0mFlags\u001b[0m\u001b[0;34m(\u001b[0m\u001b[0mself\u001b[0m\u001b[0;34m,\u001b[0m \u001b[0mallows_duplicate_labels\u001b[0m\u001b[0;34m=\u001b[0m\u001b[0;32mTrue\u001b[0m\u001b[0;34m)\u001b[0m\u001b[0;34m)\u001b[0m\u001b[0;34m\u001b[0m\u001b[0;34m\u001b[0m\u001b[0m\n\u001b[0m\u001b[1;32m    276\u001b[0m \u001b[0;34m\u001b[0m\u001b[0m\n\u001b[1;32m    277\u001b[0m     \u001b[0;34m@\u001b[0m\u001b[0mclassmethod\u001b[0m\u001b[0;34m\u001b[0m\u001b[0;34m\u001b[0m\u001b[0m\n",
            "\u001b[0;32m/usr/local/lib/python3.10/dist-packages/pandas/core/flags.py\u001b[0m in \u001b[0;36m__init__\u001b[0;34m(self, obj, allows_duplicate_labels)\u001b[0m\n\u001b[1;32m     49\u001b[0m     \u001b[0;32mdef\u001b[0m \u001b[0m__init__\u001b[0m\u001b[0;34m(\u001b[0m\u001b[0mself\u001b[0m\u001b[0;34m,\u001b[0m \u001b[0mobj\u001b[0m\u001b[0;34m,\u001b[0m \u001b[0;34m*\u001b[0m\u001b[0;34m,\u001b[0m \u001b[0mallows_duplicate_labels\u001b[0m\u001b[0;34m)\u001b[0m \u001b[0;34m->\u001b[0m \u001b[0;32mNone\u001b[0m\u001b[0;34m:\u001b[0m\u001b[0;34m\u001b[0m\u001b[0;34m\u001b[0m\u001b[0m\n\u001b[1;32m     50\u001b[0m         \u001b[0mself\u001b[0m\u001b[0;34m.\u001b[0m\u001b[0m_allows_duplicate_labels\u001b[0m \u001b[0;34m=\u001b[0m \u001b[0mallows_duplicate_labels\u001b[0m\u001b[0;34m\u001b[0m\u001b[0;34m\u001b[0m\u001b[0m\n\u001b[0;32m---> 51\u001b[0;31m         \u001b[0mself\u001b[0m\u001b[0;34m.\u001b[0m\u001b[0m_obj\u001b[0m \u001b[0;34m=\u001b[0m \u001b[0mweakref\u001b[0m\u001b[0;34m.\u001b[0m\u001b[0mref\u001b[0m\u001b[0;34m(\u001b[0m\u001b[0mobj\u001b[0m\u001b[0;34m)\u001b[0m\u001b[0;34m\u001b[0m\u001b[0;34m\u001b[0m\u001b[0m\n\u001b[0m\u001b[1;32m     52\u001b[0m \u001b[0;34m\u001b[0m\u001b[0m\n\u001b[1;32m     53\u001b[0m     \u001b[0;34m@\u001b[0m\u001b[0mproperty\u001b[0m\u001b[0;34m\u001b[0m\u001b[0;34m\u001b[0m\u001b[0m\n",
            "\u001b[0;31mKeyboardInterrupt\u001b[0m: "
          ]
        }
      ]
    },
    {
      "cell_type": "code",
      "source": [
        "for i in range(len(dft)):\n",
        "  dft['USERCITY'][i]=dft['USERCITY'][i].replace(\" \",\"\")"
      ],
      "metadata": {
        "id": "lXXja6T4yNWq"
      },
      "execution_count": null,
      "outputs": []
    },
    {
      "cell_type": "code",
      "source": [
        "for i in range(len(dft)):\n",
        "  for j in range(len(dft['KEYWORDS'][i])):\n",
        "    dft['KEYWORDS'][i][j]=dft['KEYWORDS'][i][j].replace(\" \",\"\")"
      ],
      "metadata": {
        "id": "zt1fHqPcdyFA"
      },
      "execution_count": null,
      "outputs": []
    },
    {
      "cell_type": "code",
      "execution_count": null,
      "metadata": {
        "id": "clrAlVdcigXp"
      },
      "outputs": [],
      "source": [
        "def low_case(string1):\n",
        "  return string1.lower()"
      ]
    },
    {
      "cell_type": "code",
      "execution_count": null,
      "metadata": {
        "id": "g_39cq7YigXp"
      },
      "outputs": [],
      "source": [
        "for i in range(len(dft)):\n",
        "  for j in range(len(dft['KEYWORDS'][i])):\n",
        "    dft['KEYWORDS'][i][j]=dft['KEYWORDS'][i][j].lower()\n",
        "dft.head()"
      ]
    },
    {
      "cell_type": "code",
      "execution_count": null,
      "metadata": {
        "id": "VpsxC5rj645T"
      },
      "outputs": [],
      "source": [
        "dft.shape"
      ]
    },
    {
      "cell_type": "code",
      "execution_count": null,
      "metadata": {
        "id": "Ud6x6togigXs"
      },
      "outputs": [],
      "source": [
        "import sklearn"
      ]
    },
    {
      "cell_type": "code",
      "execution_count": null,
      "metadata": {
        "id": "J9lDZn0JigXs"
      },
      "outputs": [],
      "source": [
        "from sklearn.feature_extraction.text import CountVectorizer\n",
        "from sklearn.feature_extraction.text import TfidfVectorizer\n",
        "from sklearn.model_selection import train_test_split"
      ]
    },
    {
      "cell_type": "code",
      "execution_count": null,
      "metadata": {
        "id": "vVPYxvdwRgYz"
      },
      "outputs": [],
      "source": [
        "tf = TfidfVectorizer(lowercase=False)\n",
        "cv = CountVectorizer(lowercase=False)\n"
      ]
    },
    {
      "cell_type": "code",
      "execution_count": null,
      "metadata": {
        "id": "lY4GGzpLUGyK"
      },
      "outputs": [],
      "source": [
        "snow_stem = df[['KEYWORDS']].copy()"
      ]
    },
    {
      "cell_type": "code",
      "source": [
        "snow_stem_t = dft[['KEYWORDS']].copy()"
      ],
      "metadata": {
        "id": "ALB3xIu_ebqH"
      },
      "execution_count": null,
      "outputs": []
    },
    {
      "cell_type": "code",
      "execution_count": null,
      "metadata": {
        "id": "srafT4wyUlq4"
      },
      "outputs": [],
      "source": [
        "snow_stem_t"
      ]
    },
    {
      "cell_type": "code",
      "source": [
        "from nltk.stem import SnowballStemmer\n",
        "s_stem=SnowballStemmer(language='english')\n",
        "for i in range(len(snow_stem_t)):\n",
        "    for j in range(len(snow_stem_t['KEYWORDS'][i])):\n",
        "        snow_stem_t['KEYWORDS'][i][j]=s_stem.stem(snow_stem_t['KEYWORDS'][i][j])\n",
        "snow_stem_t.head()"
      ],
      "metadata": {
        "id": "Dqs_fKsf0FqE"
      },
      "execution_count": null,
      "outputs": []
    },
    {
      "cell_type": "code",
      "execution_count": null,
      "metadata": {
        "id": "aBvoi-d-igXr"
      },
      "outputs": [],
      "source": [
        "from nltk.stem import SnowballStemmer\n",
        "s_stem=SnowballStemmer(language='english')\n",
        "for i in range(len(snow_stem)):\n",
        "    for j in range(len(snow_stem['KEYWORDS'][i])):\n",
        "        snow_stem['KEYWORDS'][i][j]=s_stem.stem(snow_stem['KEYWORDS'][i][j])\n",
        "snow_stem.head()"
      ]
    },
    {
      "cell_type": "code",
      "execution_count": null,
      "metadata": {
        "id": "bIgRmY6hWQ44"
      },
      "outputs": [],
      "source": [
        "for i in range(len(snow_stem)):\n",
        "  s1=' '.join(snow_stem['KEYWORDS'][i])\n",
        "  snow_stem['KEYWORDS'][i]=str(s1)\n",
        "snow_stem.head()"
      ]
    },
    {
      "cell_type": "code",
      "source": [
        "for i in range(len(snow_stem_t)):\n",
        "  s1=' '.join(snow_stem_t['KEYWORDS'][i])\n",
        "  snow_stem_t['KEYWORDS'][i]=str(s1)\n",
        "snow_stem_t.head()"
      ],
      "metadata": {
        "id": "PoBE3Q3vewP1"
      },
      "execution_count": null,
      "outputs": []
    },
    {
      "cell_type": "code",
      "execution_count": null,
      "metadata": {
        "id": "KwNLWhKaUzx-"
      },
      "outputs": [],
      "source": [
        "X=tf.fit_transform(snow_stem['KEYWORDS'])"
      ]
    },
    {
      "cell_type": "code",
      "source": [
        "X1=tf.fit_transform(snow_stem_t['KEYWORDS'])"
      ],
      "metadata": {
        "id": "QeblChjxgLTd"
      },
      "execution_count": null,
      "outputs": []
    },
    {
      "cell_type": "code",
      "source": [
        "X"
      ],
      "metadata": {
        "id": "2i2HgnkQgZDs"
      },
      "execution_count": null,
      "outputs": []
    },
    {
      "cell_type": "code",
      "source": [
        "X1"
      ],
      "metadata": {
        "id": "AUgLk001eV-F"
      },
      "execution_count": null,
      "outputs": []
    },
    {
      "cell_type": "code",
      "execution_count": null,
      "metadata": {
        "id": "RpySJt7PEz7C"
      },
      "outputs": [],
      "source": [
        "X_train, X_test, y_train, y_test = train_test_split(X, df1['TAXONOMY'], test_size=0.2, random_state=42)"
      ]
    },
    {
      "cell_type": "code",
      "source": [
        "X_train"
      ],
      "metadata": {
        "id": "ZCpeCPVxaOgi"
      },
      "execution_count": null,
      "outputs": []
    },
    {
      "cell_type": "code",
      "source": [
        "y_train"
      ],
      "metadata": {
        "id": "4xP0HmtHlnLN"
      },
      "execution_count": null,
      "outputs": []
    },
    {
      "cell_type": "code",
      "source": [
        "import pandas as pd\n",
        "from sklearn.preprocessing import LabelEncoder\n",
        "\n",
        "# Assuming you have a DataFrame called 'df' and the encoded labels stored in 'encoded_labels'\n",
        "\n",
        "# Create an instance of LabelEncoder\n",
        "label_encoder = LabelEncoder()\n",
        "\n",
        "# Fit the label encoder on the original labels in the DataFrame\n",
        "label_encoder.fit(df1['TAXONOMY'])\n",
        "\n",
        "# Transform the original labels into encoded values\n",
        "encoded_labels = label_encoder.transform(df1['TAXONOMY'])\n",
        "\n",
        "# Create a new column in the DataFrame for the encoded labels\n",
        "df1['TAXONOMY'] = encoded_labels\n",
        "\n"
      ],
      "metadata": {
        "id": "6ZXRil-nDxZX"
      },
      "execution_count": null,
      "outputs": []
    },
    {
      "cell_type": "code",
      "source": [
        "X_test"
      ],
      "metadata": {
        "id": "w77qIyYMeaWz"
      },
      "execution_count": null,
      "outputs": []
    },
    {
      "cell_type": "code",
      "execution_count": null,
      "metadata": {
        "id": "4qPIPvTmVss9"
      },
      "outputs": [],
      "source": [
        "from sklearn.ensemble import RandomForestClassifier\n",
        "# from sklearn.model_selection import train_test_split\n",
        "from sklearn.metrics import accuracy_score\n",
        "\n",
        "# Select the two columns you want to use for prediction\n",
        "# selected_columns = ['column1', 'column2']\n",
        "# X_train_selected = X_train[selected_columns]\n",
        "# X_test_selected = X_test[selected_columns]\n",
        "\n",
        "# Initialize the Random Forest classifier\n",
        "rf_classifier = RandomForestClassifier(n_estimators=100, random_state=42)\n",
        "\n",
        "# Train the classifier using the selected columns\n",
        "rf_classifier.fit(X_train, y_train)\n",
        "\n",
        "# Make predictions on the test set using the selected columns\n",
        "\n",
        "# Evaluate the accuracy of the classifier\n"
      ]
    },
    {
      "cell_type": "code",
      "source": [
        "y_pred = rf_classifier.predict(X1)"
      ],
      "metadata": {
        "id": "Y54gVtZZjpw_"
      },
      "execution_count": null,
      "outputs": []
    },
    {
      "cell_type": "code",
      "source": [
        "accuracy = accuracy_score(y_test, y_pred)\n",
        "print(\"Accuracy:\", accuracy)"
      ],
      "metadata": {
        "id": "Tc4vOjcIjtbh"
      },
      "execution_count": null,
      "outputs": []
    },
    {
      "cell_type": "code",
      "source": [
        "import pickle\n",
        "filename = 'finalized_model_taxo_rf.sav'\n",
        "pickle.dump(rf_classifier, open(filename, 'wb'))"
      ],
      "metadata": {
        "id": "4sog78iZs8mA"
      },
      "execution_count": null,
      "outputs": []
    },
    {
      "cell_type": "code",
      "source": [
        "import pandas as pd\n",
        "\n",
        "# Assuming you have a DataFrame called 'df'\n",
        "\n",
        "# Get all unique values in a specific column\n",
        "unique_values = df['TAXONOMY'].unique()\n",
        "# print(unique_values)"
      ],
      "metadata": {
        "id": "2C-rluCsDflm"
      },
      "execution_count": null,
      "outputs": []
    },
    {
      "cell_type": "code",
      "source": [
        "from sklearn.preprocessing import LabelEncoder\n",
        "\n",
        "# Assuming you have a list or array of categorical labels\n",
        "# labels = ['apple', 'banana', 'orange', 'apple', 'orange']\n",
        "\n",
        "# Create an instance of LabelEncoder\n",
        "label_encoder = LabelEncoder()\n",
        "\n",
        "# Fit the label encoder on the labels\n",
        "label_encoder.fit(unique_values)\n",
        "\n",
        "# Transform the labels into numerical values\n",
        "encoded_labels = label_encoder.transform(unique_values)\n",
        "\n",
        "# Print the encoded labels\n",
        "print(encoded_labels)\n"
      ],
      "metadata": {
        "id": "ILDaQ7mCpIz4"
      },
      "execution_count": null,
      "outputs": []
    },
    {
      "cell_type": "code",
      "source": [
        "df1=df.copy()"
      ],
      "metadata": {
        "id": "FWSFeRoDEEUZ"
      },
      "execution_count": null,
      "outputs": []
    },
    {
      "cell_type": "code",
      "source": [
        "new_list=[]\n",
        "for i in range(len(y_pred)):\n",
        "  new_list.append([dft['ID'][i],y_pred[i]])"
      ],
      "metadata": {
        "id": "n_qOkZIIuIiE"
      },
      "execution_count": null,
      "outputs": []
    },
    {
      "cell_type": "code",
      "source": [
        "import pickle\n",
        "filename = 'finalized_model_taxo.sav'\n",
        "pickle.dump(stacking_classifier, open(filename, 'wb'))"
      ],
      "metadata": {
        "id": "zjX93n19ij-L"
      },
      "execution_count": null,
      "outputs": []
    },
    {
      "cell_type": "code",
      "source": [
        "y_pred = stacking_classifier.predict(X_test)"
      ],
      "metadata": {
        "id": "8tFAD9iXzo_u"
      },
      "execution_count": null,
      "outputs": []
    },
    {
      "cell_type": "code",
      "source": [
        "len(y_pred)"
      ],
      "metadata": {
        "id": "zRrKHjgtz8wv"
      },
      "execution_count": null,
      "outputs": []
    },
    {
      "cell_type": "code",
      "source": [
        "new_list=[]\n",
        "for i in range(len(y_pred)):\n",
        "  new_list.append([dft['ID'][i],y_pred[i]])"
      ],
      "metadata": {
        "id": "ifZTuh36gzz5"
      },
      "execution_count": null,
      "outputs": []
    },
    {
      "cell_type": "code",
      "source": [
        "df_submission=pd.DataFrame(new_list,columns=['ID','TAXONOMY'])"
      ],
      "metadata": {
        "id": "xur-DjZAi9Ty"
      },
      "execution_count": null,
      "outputs": []
    },
    {
      "cell_type": "code",
      "source": [
        "df_submission.head()"
      ],
      "metadata": {
        "id": "EK3e5xTF8qv8"
      },
      "execution_count": null,
      "outputs": []
    },
    {
      "cell_type": "code",
      "source": [
        "dfss=pd.read_csv(\"/content/TAXONOMY.csv\")"
      ],
      "metadata": {
        "id": "W3YrIUf90BHp"
      },
      "execution_count": null,
      "outputs": []
    },
    {
      "cell_type": "code",
      "source": [
        "dfss.head()"
      ],
      "metadata": {
        "id": "UfQxGNU60vOP"
      },
      "execution_count": null,
      "outputs": []
    },
    {
      "cell_type": "code",
      "source": [
        "file_path = 'Taxanomy.csv'"
      ],
      "metadata": {
        "id": "xjpDeTeT_Wxx"
      },
      "execution_count": null,
      "outputs": []
    },
    {
      "cell_type": "code",
      "source": [
        "df_submission.to_csv(file_path, index=False)"
      ],
      "metadata": {
        "id": "vo6HPZH0_dF6"
      },
      "execution_count": null,
      "outputs": []
    },
    {
      "cell_type": "code",
      "source": [
        "df_submission.to_csv(\"submission.csv\")"
      ],
      "metadata": {
        "id": "IeACcNex9YGi"
      },
      "execution_count": null,
      "outputs": []
    }
  ],
  "metadata": {
    "colab": {
      "provenance": []
    },
    "kernelspec": {
      "display_name": "Python 3",
      "name": "python3"
    },
    "language_info": {
      "codemirror_mode": {
        "name": "ipython",
        "version": 3
      },
      "file_extension": ".py",
      "mimetype": "text/x-python",
      "name": "python",
      "nbconvert_exporter": "python",
      "pygments_lexer": "ipython3",
      "version": "3.11.4"
    }
  },
  "nbformat": 4,
  "nbformat_minor": 0
}